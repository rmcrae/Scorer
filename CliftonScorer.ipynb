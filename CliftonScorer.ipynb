{
 "cells": [
  {
   "cell_type": "code",
   "execution_count": 1,
   "id": "0935d812",
   "metadata": {
    "jupyter": {
     "source_hidden": true
    },
    "tags": []
   },
   "outputs": [],
   "source": [
    "import pandas as pd\n",
    "import ipywidgets as widgets"
   ]
  },
  {
   "cell_type": "code",
   "execution_count": 2,
   "id": "47178c18",
   "metadata": {
    "jupyter": {
     "source_hidden": true
    },
    "tags": []
   },
   "outputs": [],
   "source": [
    "from ipywidgets import AppLayout\n",
    "\n",
    "# this is just for the header button\n",
    "def create_expanded_button(description, button_style):\n",
    "    return widgets.Button(description=description, button_style=button_style, \n",
    "                          layout=widgets.Layout(height='auto', width='auto'))\n",
    "\n",
    "# button for top of scoring table.  Could have used other widgets...\n",
    "header_button = create_expanded_button(\"Clifton Team Scoring\", 'success')\n",
    "\n",
    "# define arrangement of label and +/- buttons for individual box:\n",
    "def interButtonLabel(text = \"test\", value = 0):\n",
    "    strFormat = \"{}: <b>{}</b>\"\n",
    "    strText = strFormat.format(text, value)\n",
    "    name_layout = widgets.Layout(width = \"100px\", max_width = \"150px\")\n",
    "    label = widgets.HTML(strText)\n",
    "    label.max_width = \"10px\"\n",
    "    label.nvalue = value\n",
    "    box_layout = widgets.Layout(display='flex',\n",
    "            flex_flow='column',\n",
    "            align_items='center',\n",
    "            width='50%',\n",
    "            margin = \"0px 0px 0px 10px\")\n",
    "    up = widgets.Button(description =\"+\", button_style = 'info', layout = box_layout)\n",
    "    down = widgets.Button(description = \"-\", button_style = 'danger', layout = box_layout)\n",
    "    bv = widgets.VBox([up, down])\n",
    "    bh = widgets.HBox([label, bv], layout = widgets.Layout(border = '1px solid black'))\n",
    "    bh.index = text\n",
    "    bh.value = value\n",
    "        \n",
    "    def adjust(b):\n",
    "        change = 1 if b.description=='+' else -1\n",
    "        label.nvalue += change\n",
    "        bh.value += change\n",
    "        label.value = strFormat.format(text, label.nvalue)\n",
    "       \n",
    "    up.on_click(adjust)\n",
    "    down.on_click(adjust)   \n",
    "    return bh\n",
    "\n",
    "# define what each row looks like as combination of name and list of interButtonLabels\n",
    "itemList = ['2PM', '2PA', '3PM', '3PA', 'FTM', 'FTA', 'OR', 'DR', 'A', 'S', 'Blk', 'TO', 'F']\n",
    "def nameLine(name = \"Dumars, Joe\", items = itemList):\n",
    "    nameLay = widgets.Layout(width = '100px')\n",
    "    nameWidg = widgets.HTML(f\"<b><font color='blue'><font size=2>{name}</b>\", layout = nameLay)\n",
    "    widgList = [interButtonLabel(item) for item in items]\n",
    "    \n",
    "    # super clumsy way of connecting buttons withing a line....\n",
    "    def secondary_2PA_adjust(b):\n",
    "        change = 1 if b.description=='+' else -1\n",
    "        widget2 = widgList[1]\n",
    "        label = widget2.children[0]\n",
    "        label.nvalue += change\n",
    "        widget2.value += change\n",
    "        label.value = \"{}: <b>{}</b>\".format(widget2.index, label.nvalue)\n",
    "\n",
    "    def secondary_3PA_adjust(b):\n",
    "        change = 1 if b.description=='+' else -1\n",
    "        widget2 = widgList[3]\n",
    "        label = widget2.children[0]\n",
    "        label.nvalue += change\n",
    "        widget2.value += change\n",
    "        label.value = \"{}: <b>{}</b>\".format(widget2.index, label.nvalue)\n",
    "    \n",
    "    def secondary_FTA_adjust(b):\n",
    "        change = 1 if b.description=='+' else -1\n",
    "        widget2 = widgList[5]\n",
    "        label = widget2.children[0]\n",
    "        label.nvalue += change\n",
    "        widget2.value += change\n",
    "        label.value = \"{}: <b>{}</b>\".format(widget2.index, label.nvalue)\n",
    "        \n",
    "    widgList[0].children[1].children[0].on_click(secondary_2PA_adjust)\n",
    "    widgList[0].children[1].children[1].on_click(secondary_2PA_adjust)\n",
    "    widgList[2].children[1].children[0].on_click(secondary_3PA_adjust)\n",
    "    widgList[2].children[1].children[1].on_click(secondary_3PA_adjust)\n",
    "    widgList[4].children[1].children[0].on_click(secondary_FTA_adjust)\n",
    "    widgList[4].children[1].children[1].on_click(secondary_FTA_adjust)\n",
    "    hOut = widgets.HBox([nameWidg] + widgList)\n",
    "    hOut.name = name\n",
    "    return hOut"
   ]
  },
  {
   "cell_type": "code",
   "execution_count": 3,
   "id": "e4ecc76c",
   "metadata": {
    "jupyter": {
     "source_hidden": true
    },
    "tags": []
   },
   "outputs": [
    {
     "data": {
      "application/vnd.jupyter.widget-view+json": {
       "model_id": "e000c498be794e7599920e4b506109a3",
       "version_major": 2,
       "version_minor": 0
      },
      "text/plain": [
       "AppLayout(children=(Button(button_style='success', description='Clifton Team Scoring', layout=Layout(grid_area…"
      ]
     },
     "metadata": {},
     "output_type": "display_data"
    }
   ],
   "source": [
    "roster = [\"Adrian\", \"Bate\", \"Brennan\", \"Collin\", \"Connor\", \"Dallin\", \"Derrek\", \"Gunnar\", \"Miles\", \"Treyton\", \"Zach\"]\n",
    "outbox = widgets.Output(layout = {'border': '1px solid black'})\n",
    "# initialize dictionary of results:\n",
    "out = [nameLine(name) for name in sorted(roster)]\n",
    "vOut = widgets.VBox(out)\n",
    "tableTrans = {'2PM':'2PM', '2PA':'2PA', '3PM':'3PM', '3PA':'3PA', 'FTM':'FTM',\n",
    "              'FTA':'FTA', 'OR':'O Reb', 'DR':'D Reb', 'A':'Assists', 'S':'Steals',\n",
    "              'Blk':'Blocks', 'TO':'Turnovers', 'F':'Fouls'}\n",
    "\n",
    "def update_table(b):\n",
    "    # clear data and table\n",
    "    data = {item: [] for item in itemList}\n",
    "    outbox.clear_output()\n",
    "    # rebuild data and display\n",
    "    for line in vOut.children:\n",
    "        for box in line.children[1:]:\n",
    "            data[box.index].append(box.value)\n",
    "    df = pd.DataFrame(data, index = sorted(roster)).rename(columns=tableTrans)\n",
    "    styles = [dict(selector=\"caption\", \n",
    "                props=[(\"text-align\", \"center\"),\n",
    "                (\"font-size\", \"150%\"),\n",
    "                (\"color\", 'black')])]    # the color value can not be None\n",
    "    with outbox:\n",
    "        out = df.style \\\n",
    "                .set_caption(\"Summary Table\") \\\n",
    "                .set_table_styles(styles) \\\n",
    "                .set_properties(**{'text-align':'center'})\n",
    "        display(out)\n",
    "        \n",
    "for line in vOut.children:\n",
    "    for box in line.children[1:]:\n",
    "        for button in box.children[1].children:\n",
    "            button.on_click(update_table)\n",
    "            \n",
    "widgets.AppLayout(header=header_button,\n",
    "          center = vOut,\n",
    "          footer = outbox,\n",
    "          pane_heights = [1, 12, 6]\n",
    "         )"
   ]
  },
  {
   "cell_type": "code",
   "execution_count": null,
   "id": "e1c37a83",
   "metadata": {},
   "outputs": [],
   "source": []
  }
 ],
 "metadata": {
  "kernelspec": {
   "display_name": "Python 3",
   "language": "python",
   "name": "python3"
  },
  "language_info": {
   "codemirror_mode": {
    "name": "ipython",
    "version": 3
   },
   "file_extension": ".py",
   "mimetype": "text/x-python",
   "name": "python",
   "nbconvert_exporter": "python",
   "pygments_lexer": "ipython3",
   "version": "3.8.8"
  }
 },
 "nbformat": 4,
 "nbformat_minor": 5
}
